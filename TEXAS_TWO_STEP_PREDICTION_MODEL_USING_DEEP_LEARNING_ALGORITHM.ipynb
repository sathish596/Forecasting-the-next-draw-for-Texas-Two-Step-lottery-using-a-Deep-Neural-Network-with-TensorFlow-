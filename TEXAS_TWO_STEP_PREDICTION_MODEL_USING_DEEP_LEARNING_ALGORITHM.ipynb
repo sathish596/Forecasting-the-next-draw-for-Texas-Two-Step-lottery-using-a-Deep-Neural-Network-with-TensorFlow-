{
  "nbformat": 4,
  "nbformat_minor": 0,
  "metadata": {
    "colab": {
      "private_outputs": true,
      "provenance": [],
      "gpuType": "V28",
      "authorship_tag": "ABX9TyMIioCPV2f9/JhHeLDX//I7",
      "include_colab_link": true
    },
    "kernelspec": {
      "name": "python3",
      "display_name": "Python 3"
    },
    "language_info": {
      "name": "python"
    },
    "accelerator": "TPU"
  },
  "cells": [
    {
      "cell_type": "markdown",
      "metadata": {
        "id": "view-in-github",
        "colab_type": "text"
      },
      "source": [
        "<a href=\"https://colab.research.google.com/github/sathish596/Forecasting-the-next-draw-for-Texas-Two-Step-lottery-using-a-Deep-Neural-Network-with-TensorFlow-/blob/main/TEXAS_TWO_STEP_PREDICTION_MODEL_USING_DEEP_LEARNING_ALGORITHM.ipynb\" target=\"_parent\"><img src=\"https://colab.research.google.com/assets/colab-badge.svg\" alt=\"Open In Colab\"/></a>"
      ]
    },
    {
      "cell_type": "code",
      "execution_count": null,
      "metadata": {
        "id": "I-OOwLKpOpNG"
      },
      "outputs": [],
      "source": [
        "import numpy as np\n",
        "import pandas as pd\n",
        "from sklearn.preprocessing import StandardScaler"
      ]
    },
    {
      "cell_type": "code",
      "source": [
        "df = pd.read_csv(\"/content/texastwostep.csv\")"
      ],
      "metadata": {
        "id": "ngVRa4VtPl7u"
      },
      "execution_count": null,
      "outputs": []
    },
    {
      "cell_type": "code",
      "source": [
        "print(df.shape)\n",
        "print(list(df.columns))"
      ],
      "metadata": {
        "id": "q9CQmc3iPrh6"
      },
      "execution_count": null,
      "outputs": []
    },
    {
      "cell_type": "code",
      "source": [
        "df.head()"
      ],
      "metadata": {
        "id": "xHdw8847PvMk"
      },
      "execution_count": null,
      "outputs": []
    },
    {
      "cell_type": "code",
      "source": [
        "window_length = 7\n",
        "window_length"
      ],
      "metadata": {
        "id": "rkdS1T8uPxTn"
      },
      "execution_count": null,
      "outputs": []
    },
    {
      "cell_type": "code",
      "source": [
        "df1 = df.copy()\n",
        "df.drop(['DATE'], axis=1, inplace=True)\n",
        "\n",
        "number_of_features = df.shape[1]"
      ],
      "metadata": {
        "id": "mandB-G3P0xy"
      },
      "execution_count": null,
      "outputs": []
    },
    {
      "cell_type": "code",
      "source": [
        "train = df.copy()\n",
        "train.head((window_length+1))"
      ],
      "metadata": {
        "id": "cCLdmFBpP48b"
      },
      "execution_count": null,
      "outputs": []
    },
    {
      "cell_type": "code",
      "source": [
        "train_rows = train.values.shape[0]\n",
        "train_samples = np.empty([ train_rows - window_length, window_length, number_of_features], dtype=float)\n",
        "train_labels = np.empty([ train_rows - window_length, number_of_features], dtype=float)\n",
        "for i in range(0, train_rows-window_length):\n",
        "    train_samples[i] = train.iloc[i : i+window_length, 0 : number_of_features]\n",
        "    train_labels[i] = train.iloc[i+window_length : i+window_length+1, 0 : number_of_features]"
      ],
      "metadata": {
        "id": "3I3-m9o9P8Kg"
      },
      "execution_count": null,
      "outputs": []
    },
    {
      "cell_type": "code",
      "source": [
        "train_samples[0]"
      ],
      "metadata": {
        "id": "OuxPpgbHQAID"
      },
      "execution_count": null,
      "outputs": []
    },
    {
      "cell_type": "code",
      "source": [
        "train_labels[0]"
      ],
      "metadata": {
        "id": "x_dXjAUsQC6B"
      },
      "execution_count": null,
      "outputs": []
    },
    {
      "cell_type": "code",
      "source": [
        "scaler = StandardScaler()\n",
        "transformed_dataset = scaler.fit_transform(train.values)\n",
        "scaled_train_samples = pd.DataFrame(data=transformed_dataset, index=train.index)"
      ],
      "metadata": {
        "id": "ysTXTFmXQGfz"
      },
      "execution_count": null,
      "outputs": []
    },
    {
      "cell_type": "code",
      "source": [
        "scaled_train_samples.head(window_length+1)"
      ],
      "metadata": {
        "id": "0yl88zS8QPfu"
      },
      "execution_count": null,
      "outputs": []
    },
    {
      "cell_type": "code",
      "source": [
        "x_train = np.empty([ train_rows - window_length, window_length, number_of_features], dtype=float)\n",
        "y_train = np.empty([ train_rows - window_length, number_of_features], dtype=float)\n",
        "\n",
        "for i in range(0, train_rows-window_length):\n",
        "    x_train[i] = scaled_train_samples.iloc[i : i+window_length, 0 : number_of_features]\n",
        "    y_train[i] = scaled_train_samples.iloc[i+window_length : i+window_length+1, 0 : number_of_features]"
      ],
      "metadata": {
        "id": "QYb5MxCoQQgg"
      },
      "execution_count": null,
      "outputs": []
    },
    {
      "cell_type": "code",
      "source": [
        "import tensorflow as tf\n",
        "from tensorflow import keras\n",
        "from tensorflow.keras.models import Sequential\n",
        "from tensorflow.keras.layers import LSTM, Dense, Bidirectional, Dropout\n",
        "from tensorflow.keras.optimizers import Adam\n",
        "from tensorflow.keras.metrics import mse"
      ],
      "metadata": {
        "id": "zGoYerKhQU1b"
      },
      "execution_count": null,
      "outputs": []
    },
    {
      "cell_type": "code",
      "source": [
        "physical_devices = tf.config.experimental.list_physical_devices('GPU')\n",
        "print(\"Num GPUs Available: \", len(physical_devices))\n",
        "tf.config.experimental.set_memory_growth(physical_devices[0], True)"
      ],
      "metadata": {
        "id": "8I7adCPcQZl1"
      },
      "execution_count": null,
      "outputs": []
    },
    {
      "cell_type": "code",
      "source": [
        "# Initialising the RNN\n",
        "model = Sequential()\n",
        "# Adding the input layer and the LSTM layer\n",
        "model.add(Bidirectional(LSTM(240,\n",
        "                        input_shape = (window_length, number_of_features),\n",
        "                        return_sequences = True)))\n",
        "# Adding a first Dropout layer\n",
        "model.add(Dropout(0.2))\n",
        "# Adding a second LSTM layer\n",
        "model.add(Bidirectional(LSTM(240,\n",
        "                        input_shape = (window_length, number_of_features),\n",
        "                        return_sequences = True)))\n",
        "# Adding a second Dropout layer\n",
        "model.add(Dropout(0.2))\n",
        "# Adding a third LSTM layer\n",
        "model.add(Bidirectional(LSTM(240,\n",
        "                        input_shape = (window_length, number_of_features),\n",
        "                        return_sequences = True)))\n",
        "# Adding a fourth LSTM layer\n",
        "model.add(Bidirectional(LSTM(240,\n",
        "                        input_shape = (window_length, number_of_features),\n",
        "                        return_sequences = False)))\n",
        "# Adding a third Dropout layer\n",
        "model.add(Dropout(0.2))\n",
        "# Adding the first output layer\n",
        "model.add(Dense(70))\n",
        "# Adding the last output layer\n",
        "model.add(Dense(number_of_features))"
      ],
      "metadata": {
        "id": "UKLZ-7DfQesf"
      },
      "execution_count": null,
      "outputs": []
    },
    {
      "cell_type": "code",
      "source": [
        "model.compile(optimizer=Adam(learning_rate=0.0001), loss ='mse', metrics=['accuracy'])"
      ],
      "metadata": {
        "id": "O9c_QY7SQiGC"
      },
      "execution_count": null,
      "outputs": []
    },
    {
      "cell_type": "code",
      "source": [
        "model.fit(x=x_train, y=y_train, batch_size=100, epochs=2400, verbose=2)"
      ],
      "metadata": {
        "id": "IB_juVIMQmyO"
      },
      "execution_count": null,
      "outputs": []
    },
    {
      "cell_type": "code",
      "source": [
        "print('-' * 40)\n",
        "print('Prediction vs. GoundTruth without rounding up or down')\n",
        "for i in range(1,10):\n",
        "  test = df1.copy()\n",
        "  test = test.tail((window_length+10-i))\n",
        "  test = test.head((window_length+1))\n",
        "  test_Date = df1.iloc[ (test.tail().index[-1]) ]['DATE']\n",
        "  test1 = test.head((window_length))\n",
        "  test1.drop(['DATE'], axis=1, inplace=True)\n",
        "  test1 = np.array(test1)\n",
        "  x_test = scaler.transform(test1)\n",
        "  y_test_pred = model.predict(np.array([x_test]))\n",
        "  y_test_true = test.drop(['DATE'], axis=1, inplace=True)\n",
        "  y_test_true = test.tail(1)\n",
        "  print('Drawing  DATE', test_Date)\n",
        "  print('Prediction:\\t', scaler.inverse_transform(y_test_pred).astype(int)[0])\n",
        "  print('GoundTruth:\\t', np.array(y_test_true)[0])\n",
        "  print('-' * 40)"
      ],
      "metadata": {
        "id": "lHAohxReURZp"
      },
      "execution_count": null,
      "outputs": []
    },
    {
      "cell_type": "code",
      "source": [
        "print('-' * 40)\n",
        "print('Prediction vs. GoundTruth with rounding up')\n",
        "for i in range(1,10):\n",
        "  test = df1.copy()\n",
        "  test = test.tail((window_length+10-i))\n",
        "  test = test.head((window_length+1))\n",
        "  test_Date = df1.iloc[ (test.tail().index[-1]) ]['DATE']\n",
        "  test1 = test.head((window_length))\n",
        "  test1.drop(['DATE'], axis=1, inplace=True)\n",
        "  test1 = np.array(test1)\n",
        "  x_test = scaler.transform(test1)\n",
        "  y_test_pred = model.predict(np.array([x_test]))\n",
        "  y_test_true = test.drop(['DATE'], axis=1, inplace=True)\n",
        "  y_test_true = test.tail(1)\n",
        "  print('Drawing  DATE', test_Date)\n",
        "  print('Prediction:\\t', scaler.inverse_transform(y_test_pred).astype(int)[0]+1)\n",
        "  print('GoundTruth:\\t', np.array(y_test_true)[0])\n",
        "  print('-' * 40)"
      ],
      "metadata": {
        "id": "TYM4uqkPUxme"
      },
      "execution_count": null,
      "outputs": []
    },
    {
      "cell_type": "code",
      "source": [
        "next_Date = \"15/07/2024\"\n",
        "\n",
        "next = np.array(\"next_Date\")\n",
        "next"
      ],
      "metadata": {
        "id": "mT0zjmV9U_vN"
      },
      "execution_count": null,
      "outputs": []
    },
    {
      "cell_type": "code",
      "source": [
        "next = np.array(next)\n",
        "next"
      ],
      "metadata": {
        "id": "stt4C5CUVZiS"
      },
      "execution_count": null,
      "outputs": []
    },
    {
      "cell_type": "code",
      "source": [
        "x_next = scaler.transform(next)\n",
        "x_next"
      ],
      "metadata": {
        "id": "YP5VLSBUVbCD"
      },
      "execution_count": null,
      "outputs": []
    },
    {
      "cell_type": "code",
      "source": [
        "x_next = scaler.transform(next)\n",
        "x_next"
      ],
      "metadata": {
        "id": "MeYTmMieWQAM"
      },
      "execution_count": null,
      "outputs": []
    },
    {
      "cell_type": "code",
      "source": [
        "next_Date = '15/07/2024'\n",
        "print('-' * 40)\n",
        "print('Predict the Future Drawing on July 17, 2024')\n",
        "next = df.copy()\n",
        "next = next.tail((window_length))\n",
        "next = np.array(next)\n",
        "x_next = scaler.transform(next)\n",
        "y_next_pred = model.predict(np.array([x_next]))\n",
        "print('Drawing  Date', next_Date)\n",
        "print('Prediction without rounding up or down:\\t', scaler.inverse_transform(y_next_pred).astype(int)[0])\n",
        "print('Prediction with rounding up           :\\t', scaler.inverse_transform(y_next_pred).astype(int)[0]+1)\n",
        "print('Prediction with rounding down         :\\t', scaler.inverse_transform(y_next_pred).astype(int)[0]-1)\n",
        "print('-' * 40)"
      ],
      "metadata": {
        "id": "hmmg4lePWTUj"
      },
      "execution_count": null,
      "outputs": []
    }
  ]
}